{
 "cells": [
  {
   "cell_type": "code",
   "execution_count": null,
   "metadata": {
    "colab": {
     "base_uri": "https://localhost:8080/",
     "height": 1000
    },
    "colab_type": "code",
    "id": "deaacv4XfLMk",
    "outputId": "14b9db4c-36a0-4bf9-d29a-24f4af8f6d10"
   },
   "outputs": [],
   "source": [
    "#! wget -q -O es.txt.gz http://opus.nlpl.eu/download.php?f=OpenSubtitles/v2018/mono/OpenSubtitles.es.gz\n",
    "#! gunzip -k es.txt.gz\n",
    "#! mkdir lines\n",
    "! split -a 3 -l 100000 no_train.txt lines/lines-\n",
    "\n",
    "! git clone https://github.com/PolyAI-LDN/conversational-datasets.git\n",
    "! pip install -q -r conversational-datasets/requirements.txt"
   ]
  },
  {
   "cell_type": "code",
   "execution_count": null,
   "metadata": {
    "colab": {
     "base_uri": "https://localhost:8080/",
     "height": 1000
    },
    "colab_type": "code",
    "id": "w8BULIWnoHo1",
    "outputId": "c6e4d7e3-d7f8-40c7-96b3-683fde21cf90"
   },
   "outputs": [],
   "source": [
    "! python conversational-datasets/opensubtitles/create_data.py --runner DirectRunner --sentence_files lines/lines-* --output_dir output --dataset_format JSON"
   ]
  },
  {
   "cell_type": "code",
   "execution_count": null,
   "metadata": {
    "colab": {
     "base_uri": "https://localhost:8080/",
     "height": 440
    },
    "colab_type": "code",
    "id": "nsUZhl4e8SwK",
    "outputId": "5df8ac2c-bb14-45a6-bc2b-a7eb48ef8aec"
   },
   "outputs": [],
   "source": [
    "from glob import glob\n",
    "import pandas as pd\n",
    "\n",
    "def remove_white_space(x):\n",
    "    return (x.encode('utf-8').replace(' .', '.')\n",
    "            .replace(' .', '.')\n",
    "            .replace(' ,', ',')\n",
    "            .replace(' ?', '?')\n",
    "            .replace('¿ ', '¿')\n",
    "            .replace(' !', '!')\n",
    "            .replace('¡ ', '¡')\n",
    "            )\n",
    "\n",
    "def jsonl_list_to_dataframe(file_list, columns=[\n",
    "        'response', 'context', 'context/0', 'context/1',\n",
    "        'context/2', 'context/3', 'context/4', 'context/5',\n",
    "        'context/6', 'context/7', 'context/8', 'context/9'\n",
    "    ]):\n",
    "    \"\"\"Load a list of jsonl.gz files into a pandas DataFrame.\"\"\"\n",
    "    return pd.concat([pd.read_json(f,\n",
    "                                   orient='records', encoding='utf-8',\n",
    "                                   lines=True)[columns]\n",
    "                      for f in file_list], sort=False)\n",
    "\n",
    "df = jsonl_list_to_dataframe(glob(\"output/train*.json\"), ).dropna()\n",
    "df = df.drop_duplicates()\n",
    "df = df.applymap(remove_white_space)\n",
    "df.head()"
   ]
  },
  {
   "cell_type": "code",
   "execution_count": null,
   "metadata": {
    "colab": {
     "base_uri": "https://localhost:8080/",
     "height": 35
    },
    "colab_type": "code",
    "id": "4NwpFd6bOb3i",
    "outputId": "aef08fdc-1aad-4b2e-976c-5bf1e9f34037"
   },
   "outputs": [],
   "source": [
    "len(df)"
   ]
  },
  {
   "cell_type": "code",
   "execution_count": null,
   "metadata": {
    "colab": {
     "base_uri": "https://localhost:8080/",
     "height": 128
    },
    "colab_type": "code",
    "id": "_ow-38mlB8bA",
    "outputId": "031646b4-c8a4-4941-cbcf-3d8329717500"
   },
   "outputs": [
    {
     "name": "stdout",
     "output_type": "stream",
     "text": [
      "Go to this URL in a browser: https://accounts.google.com/o/oauth2/auth?client_id=947318989803-6bn6qk8qdgf4n4g3pfee6491hc0brc4i.apps.googleusercontent.com&redirect_uri=urn%3aietf%3awg%3aoauth%3a2.0%3aoob&response_type=code&scope=email%20https%3a%2f%2fwww.googleapis.com%2fauth%2fdocs.test%20https%3a%2f%2fwww.googleapis.com%2fauth%2fdrive%20https%3a%2f%2fwww.googleapis.com%2fauth%2fdrive.photos.readonly%20https%3a%2f%2fwww.googleapis.com%2fauth%2fpeopleapi.readonly\n",
      "\n",
      "Enter your authorization code:\n",
      "··········\n",
      "Mounted at /content/drive\n"
     ]
    }
   ],
   "source": [
    "from google.colab import drive\n",
    "drive.mount('/content/drive')"
   ]
  },
  {
   "cell_type": "code",
   "execution_count": null,
   "metadata": {
    "colab": {},
    "colab_type": "code",
    "id": "3YHyiNlaGFpr"
   },
   "outputs": [],
   "source": [
    "df.to_csv('final_no_conv.csv', encoding = 'utf-8')"
   ]
  },
  {
   "cell_type": "code",
   "execution_count": null,
   "metadata": {
    "colab": {},
    "colab_type": "code",
    "id": "y00RekyPPFnb"
   },
   "outputs": [],
   "source": []
  }
 ],
 "metadata": {
  "colab": {
   "collapsed_sections": [],
   "name": "Data Preprocessing: Open-Dialog Chatbots for Learning New Languages [Part 1].ipynb",
   "provenance": []
  },
  "kernelspec": {
   "display_name": "Python 3",
   "language": "python",
   "name": "python3"
  }
 },
 "nbformat": 4,
 "nbformat_minor": 1
}
